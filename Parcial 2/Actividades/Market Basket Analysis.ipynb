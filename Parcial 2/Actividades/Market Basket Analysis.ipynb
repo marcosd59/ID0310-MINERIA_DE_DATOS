{
  "cells": [
    {
      "cell_type": "code",
      "execution_count": 1,
      "metadata": {},
      "outputs": [],
      "source": [
        "# %pip install mlxtend"
      ]
    },
    {
      "cell_type": "code",
      "execution_count": 2,
      "metadata": {
        "id": "qu8SgADS0PIB"
      },
      "outputs": [],
      "source": [
        "from mlxtend.frequent_patterns import apriori, association_rules\n",
        "from mlxtend.preprocessing import TransactionEncoder\n",
        "import pandas as pd"
      ]
    },
    {
      "cell_type": "markdown",
      "metadata": {
        "id": "w7EeoBwC3h7a"
      },
      "source": [
        "# Lectura de datos\n",
        "\n",
        "<font color=\"blue\">Lee los datos del conjunto ```groceries.csv``` y obtén la matriz binaria **transacción-producto**.</font>\n",
        "\n",
        "*Sugerencia*:\n",
        "\n",
        "* Accede a los datos usando la librería de ```Python``` para leer archivos de valores separados por comas: https://docs.python.org/3/library/csv.html\n",
        "* Construye la lista de transacciones empleando el objeto lector (mediante el comando ```reader``` de ```csv```). El resultado conviértelo a una lista (con el cast ```list```).\n",
        "* Pasa la lista de transacciones al ```TransactionEncoder``` de ```mlxtend```."
      ]
    },
    {
      "cell_type": "code",
      "execution_count": 3,
      "metadata": {
        "colab": {
          "base_uri": "https://localhost:8080/"
        },
        "id": "3UxVD7tO1sjB",
        "outputId": "6d21079c-1ec3-4396-936c-ede1ec02ca75"
      },
      "outputs": [],
      "source": [
        "import csv\n",
        "transactions = []\n",
        "with open('../files/groceries.csv', newline='') as csvfile:\n",
        " rows = csv.reader(csvfile)\n",
        " for i in rows:\n",
        "  transactions.append(i)\n",
        "transactions =list(transactions)"
      ]
    },
    {
      "cell_type": "code",
      "execution_count": 4,
      "metadata": {
        "colab": {
          "base_uri": "https://localhost:8080/"
        },
        "id": "eM80XnkXL6F_",
        "outputId": "a080829c-07ae-44aa-984c-9efbdc9baa74"
      },
      "outputs": [
        {
          "data": {
            "text/plain": [
              "[['citrus fruit', 'semi-finished bread', 'margarine', 'ready soups'],\n",
              " ['tropical fruit', 'yogurt', 'coffee'],\n",
              " ['whole milk'],\n",
              " ['pip fruit', 'yogurt', 'cream cheese', 'meat spreads'],\n",
              " ['other vegetables',\n",
              "  'whole milk',\n",
              "  'condensed milk',\n",
              "  'long life bakery product']]"
            ]
          },
          "execution_count": 4,
          "metadata": {},
          "output_type": "execute_result"
        }
      ],
      "source": [
        "transactions[:5]"
      ]
    },
    {
      "cell_type": "code",
      "execution_count": 5,
      "metadata": {
        "colab": {
          "base_uri": "https://localhost:8080/",
          "height": 325
        },
        "id": "ZNMGQcWRJvVo",
        "outputId": "c4f8bc01-37c5-4a56-c353-a23429e530c5"
      },
      "outputs": [
        {
          "data": {
            "text/html": [
              "<div>\n",
              "<style scoped>\n",
              "    .dataframe tbody tr th:only-of-type {\n",
              "        vertical-align: middle;\n",
              "    }\n",
              "\n",
              "    .dataframe tbody tr th {\n",
              "        vertical-align: top;\n",
              "    }\n",
              "\n",
              "    .dataframe thead th {\n",
              "        text-align: right;\n",
              "    }\n",
              "</style>\n",
              "<table border=\"1\" class=\"dataframe\">\n",
              "  <thead>\n",
              "    <tr style=\"text-align: right;\">\n",
              "      <th></th>\n",
              "      <th>Instant food products</th>\n",
              "      <th>UHT-milk</th>\n",
              "      <th>abrasive cleaner</th>\n",
              "      <th>artif. sweetener</th>\n",
              "      <th>baby cosmetics</th>\n",
              "      <th>baby food</th>\n",
              "      <th>bags</th>\n",
              "      <th>baking powder</th>\n",
              "      <th>bathroom cleaner</th>\n",
              "      <th>beef</th>\n",
              "      <th>...</th>\n",
              "      <th>turkey</th>\n",
              "      <th>vinegar</th>\n",
              "      <th>waffles</th>\n",
              "      <th>whipped/sour cream</th>\n",
              "      <th>whisky</th>\n",
              "      <th>white bread</th>\n",
              "      <th>white wine</th>\n",
              "      <th>whole milk</th>\n",
              "      <th>yogurt</th>\n",
              "      <th>zwieback</th>\n",
              "    </tr>\n",
              "  </thead>\n",
              "  <tbody>\n",
              "    <tr>\n",
              "      <th>0</th>\n",
              "      <td>0</td>\n",
              "      <td>0</td>\n",
              "      <td>0</td>\n",
              "      <td>0</td>\n",
              "      <td>0</td>\n",
              "      <td>0</td>\n",
              "      <td>0</td>\n",
              "      <td>0</td>\n",
              "      <td>0</td>\n",
              "      <td>0</td>\n",
              "      <td>...</td>\n",
              "      <td>0</td>\n",
              "      <td>0</td>\n",
              "      <td>0</td>\n",
              "      <td>0</td>\n",
              "      <td>0</td>\n",
              "      <td>0</td>\n",
              "      <td>0</td>\n",
              "      <td>0</td>\n",
              "      <td>0</td>\n",
              "      <td>0</td>\n",
              "    </tr>\n",
              "    <tr>\n",
              "      <th>1</th>\n",
              "      <td>0</td>\n",
              "      <td>0</td>\n",
              "      <td>0</td>\n",
              "      <td>0</td>\n",
              "      <td>0</td>\n",
              "      <td>0</td>\n",
              "      <td>0</td>\n",
              "      <td>0</td>\n",
              "      <td>0</td>\n",
              "      <td>0</td>\n",
              "      <td>...</td>\n",
              "      <td>0</td>\n",
              "      <td>0</td>\n",
              "      <td>0</td>\n",
              "      <td>0</td>\n",
              "      <td>0</td>\n",
              "      <td>0</td>\n",
              "      <td>0</td>\n",
              "      <td>0</td>\n",
              "      <td>1</td>\n",
              "      <td>0</td>\n",
              "    </tr>\n",
              "    <tr>\n",
              "      <th>2</th>\n",
              "      <td>0</td>\n",
              "      <td>0</td>\n",
              "      <td>0</td>\n",
              "      <td>0</td>\n",
              "      <td>0</td>\n",
              "      <td>0</td>\n",
              "      <td>0</td>\n",
              "      <td>0</td>\n",
              "      <td>0</td>\n",
              "      <td>0</td>\n",
              "      <td>...</td>\n",
              "      <td>0</td>\n",
              "      <td>0</td>\n",
              "      <td>0</td>\n",
              "      <td>0</td>\n",
              "      <td>0</td>\n",
              "      <td>0</td>\n",
              "      <td>0</td>\n",
              "      <td>1</td>\n",
              "      <td>0</td>\n",
              "      <td>0</td>\n",
              "    </tr>\n",
              "    <tr>\n",
              "      <th>3</th>\n",
              "      <td>0</td>\n",
              "      <td>0</td>\n",
              "      <td>0</td>\n",
              "      <td>0</td>\n",
              "      <td>0</td>\n",
              "      <td>0</td>\n",
              "      <td>0</td>\n",
              "      <td>0</td>\n",
              "      <td>0</td>\n",
              "      <td>0</td>\n",
              "      <td>...</td>\n",
              "      <td>0</td>\n",
              "      <td>0</td>\n",
              "      <td>0</td>\n",
              "      <td>0</td>\n",
              "      <td>0</td>\n",
              "      <td>0</td>\n",
              "      <td>0</td>\n",
              "      <td>0</td>\n",
              "      <td>1</td>\n",
              "      <td>0</td>\n",
              "    </tr>\n",
              "    <tr>\n",
              "      <th>4</th>\n",
              "      <td>0</td>\n",
              "      <td>0</td>\n",
              "      <td>0</td>\n",
              "      <td>0</td>\n",
              "      <td>0</td>\n",
              "      <td>0</td>\n",
              "      <td>0</td>\n",
              "      <td>0</td>\n",
              "      <td>0</td>\n",
              "      <td>0</td>\n",
              "      <td>...</td>\n",
              "      <td>0</td>\n",
              "      <td>0</td>\n",
              "      <td>0</td>\n",
              "      <td>0</td>\n",
              "      <td>0</td>\n",
              "      <td>0</td>\n",
              "      <td>0</td>\n",
              "      <td>1</td>\n",
              "      <td>0</td>\n",
              "      <td>0</td>\n",
              "    </tr>\n",
              "  </tbody>\n",
              "</table>\n",
              "<p>5 rows × 169 columns</p>\n",
              "</div>"
            ],
            "text/plain": [
              "   Instant food products  UHT-milk  abrasive cleaner  artif. sweetener  \\\n",
              "0                      0         0                 0                 0   \n",
              "1                      0         0                 0                 0   \n",
              "2                      0         0                 0                 0   \n",
              "3                      0         0                 0                 0   \n",
              "4                      0         0                 0                 0   \n",
              "\n",
              "   baby cosmetics  baby food  bags  baking powder  bathroom cleaner  beef  \\\n",
              "0               0          0     0              0                 0     0   \n",
              "1               0          0     0              0                 0     0   \n",
              "2               0          0     0              0                 0     0   \n",
              "3               0          0     0              0                 0     0   \n",
              "4               0          0     0              0                 0     0   \n",
              "\n",
              "   ...  turkey  vinegar  waffles  whipped/sour cream  whisky  white bread  \\\n",
              "0  ...       0        0        0                   0       0            0   \n",
              "1  ...       0        0        0                   0       0            0   \n",
              "2  ...       0        0        0                   0       0            0   \n",
              "3  ...       0        0        0                   0       0            0   \n",
              "4  ...       0        0        0                   0       0            0   \n",
              "\n",
              "   white wine  whole milk  yogurt  zwieback  \n",
              "0           0           0       0         0  \n",
              "1           0           0       1         0  \n",
              "2           0           1       0         0  \n",
              "3           0           0       1         0  \n",
              "4           0           1       0         0  \n",
              "\n",
              "[5 rows x 169 columns]"
            ]
          },
          "execution_count": 5,
          "metadata": {},
          "output_type": "execute_result"
        }
      ],
      "source": [
        "TE=TransactionEncoder()\n",
        "items = TE.fit(transactions).transform(transactions)\n",
        "items= items.astype(\"int\")\n",
        "df= pd.DataFrame(items, columns=TE.columns_)\n",
        "df.head()"
      ]
    },
    {
      "cell_type": "markdown",
      "metadata": {
        "id": "AgoDAt1YjDzH"
      },
      "source": [
        "<font color=\"blue\"> Responde las siguientes preguntas </font>\n",
        "\n",
        "* ¿Cuántos productos diferentes contiene el conjunto de transacciones?**R=169 productos**\n",
        "* ¿Cuántas transacciones contiene el archivo? **R=9835 transacciones**\n",
        "* ¿Cuántos artículos diferentes, en promedio, contienen las transacciones? **R=4 artículos**\n",
        "* ¿Cuál es el soporte del artículo ```bottled beer```? **120**\n"
      ]
    },
    {
      "cell_type": "code",
      "execution_count": 6,
      "metadata": {
        "colab": {
          "base_uri": "https://localhost:8080/"
        },
        "id": "BEgb-EskaHv8",
        "outputId": "c3d0e76c-cb8f-4281-80ed-72e1f4075613"
      },
      "outputs": [
        {
          "data": {
            "text/plain": [
              "169"
            ]
          },
          "execution_count": 6,
          "metadata": {},
          "output_type": "execute_result"
        }
      ],
      "source": [
        "#Número de productos\n",
        "len(df.columns)"
      ]
    },
    {
      "cell_type": "code",
      "execution_count": 7,
      "metadata": {
        "colab": {
          "base_uri": "https://localhost:8080/"
        },
        "id": "RJ3ngoeb5dM3",
        "outputId": "0019a4be-f730-4f34-b681-b80a96e9b8dd"
      },
      "outputs": [
        {
          "data": {
            "text/plain": [
              "9835"
            ]
          },
          "execution_count": 7,
          "metadata": {},
          "output_type": "execute_result"
        }
      ],
      "source": [
        "#Número de transacciones\n",
        "len(transactions)"
      ]
    },
    {
      "cell_type": "code",
      "execution_count": 8,
      "metadata": {
        "colab": {
          "base_uri": "https://localhost:8080/"
        },
        "id": "fK64tghVhZal",
        "outputId": "384156e7-5172-47a3-9174-339884887da5"
      },
      "outputs": [
        {
          "data": {
            "text/plain": [
              "4.409456024402644"
            ]
          },
          "execution_count": 8,
          "metadata": {},
          "output_type": "execute_result"
        }
      ],
      "source": [
        "#Promedio de productos por transacción\n",
        "prod = df.sum(axis=1)\n",
        "prod.mean()"
      ]
    },
    {
      "cell_type": "code",
      "execution_count": 9,
      "metadata": {
        "colab": {
          "base_uri": "https://localhost:8080/"
        },
        "id": "rrDOSYPeH7q6",
        "outputId": "7fbe14b0-58b5-4e72-977d-f7815330c505"
      },
      "outputs": [
        {
          "data": {
            "text/plain": [
              "120"
            ]
          },
          "execution_count": 9,
          "metadata": {},
          "output_type": "execute_result"
        }
      ],
      "source": [
        "#Soporte del ártículo bottled beer\n",
        "bottled = transactions.count(['bottled beer'])\n",
        "bottled"
      ]
    },
    {
      "cell_type": "markdown",
      "metadata": {
        "id": "tywGUgfA3lTW"
      },
      "source": [
        "# Productos más frecuentes\n",
        "\n",
        "* <font color=\"blue\">Construye una gráfica de barras horizontales mostrando, ordenadamente, los 30 artículos con el mayor soporte.</font>"
      ]
    },
    {
      "cell_type": "code",
      "execution_count": 10,
      "metadata": {
        "colab": {
          "base_uri": "https://localhost:8080/"
        },
        "id": "LJmIl1Z4jz0a",
        "outputId": "b9ab7b16-2ebd-4590-cef4-66ac596b22a4"
      },
      "outputs": [],
      "source": [
        "#Calculando los soportes de los productos de la lista transacciones\n",
        "soportes = []\n",
        "for i in range (169):\n",
        " s = transactions.count([TE.columns_ [i]])\n",
        " soportes.append(s) #los resultados se agregan a la lista soportes\n"
      ]
    },
    {
      "cell_type": "code",
      "execution_count": 11,
      "metadata": {
        "colab": {
          "base_uri": "https://localhost:8080/",
          "height": 261
        },
        "id": "C_TO-687qyan",
        "outputId": "e49ac63d-c41c-4fac-de9b-8e0f135c6b58"
      },
      "outputs": [
        {
          "data": {
            "text/html": [
              "<div>\n",
              "<style scoped>\n",
              "    .dataframe tbody tr th:only-of-type {\n",
              "        vertical-align: middle;\n",
              "    }\n",
              "\n",
              "    .dataframe tbody tr th {\n",
              "        vertical-align: top;\n",
              "    }\n",
              "\n",
              "    .dataframe thead th {\n",
              "        text-align: right;\n",
              "    }\n",
              "</style>\n",
              "<table border=\"1\" class=\"dataframe\">\n",
              "  <thead>\n",
              "    <tr style=\"text-align: right;\">\n",
              "      <th></th>\n",
              "      <th>Soporte</th>\n",
              "    </tr>\n",
              "  </thead>\n",
              "  <tbody>\n",
              "    <tr>\n",
              "      <th>Instant food products</th>\n",
              "      <td>3</td>\n",
              "    </tr>\n",
              "    <tr>\n",
              "      <th>UHT-milk</th>\n",
              "      <td>10</td>\n",
              "    </tr>\n",
              "    <tr>\n",
              "      <th>abrasive cleaner</th>\n",
              "      <td>1</td>\n",
              "    </tr>\n",
              "    <tr>\n",
              "      <th>artif. sweetener</th>\n",
              "      <td>1</td>\n",
              "    </tr>\n",
              "    <tr>\n",
              "      <th>baby cosmetics</th>\n",
              "      <td>1</td>\n",
              "    </tr>\n",
              "  </tbody>\n",
              "</table>\n",
              "</div>"
            ],
            "text/plain": [
              "                       Soporte\n",
              "Instant food products        3\n",
              "UHT-milk                    10\n",
              "abrasive cleaner             1\n",
              "artif. sweetener             1\n",
              "baby cosmetics               1"
            ]
          },
          "execution_count": 11,
          "metadata": {},
          "output_type": "execute_result"
        }
      ],
      "source": [
        "#Creando el dataframe de los soportes con los nombres de los productos\n",
        "df_sop =pd.DataFrame(soportes,TE.columns_, columns=['Soporte'])\n",
        "df_sop.head()"
      ]
    },
    {
      "cell_type": "code",
      "execution_count": 12,
      "metadata": {
        "colab": {
          "base_uri": "https://localhost:8080/",
          "height": 1000
        },
        "id": "HApFow31t597",
        "outputId": "a3b13dd3-a009-418f-e9af-19fc823d64cb"
      },
      "outputs": [
        {
          "data": {
            "text/html": [
              "<div>\n",
              "<style scoped>\n",
              "    .dataframe tbody tr th:only-of-type {\n",
              "        vertical-align: middle;\n",
              "    }\n",
              "\n",
              "    .dataframe tbody tr th {\n",
              "        vertical-align: top;\n",
              "    }\n",
              "\n",
              "    .dataframe thead th {\n",
              "        text-align: right;\n",
              "    }\n",
              "</style>\n",
              "<table border=\"1\" class=\"dataframe\">\n",
              "  <thead>\n",
              "    <tr style=\"text-align: right;\">\n",
              "      <th></th>\n",
              "      <th>Soporte</th>\n",
              "    </tr>\n",
              "  </thead>\n",
              "  <tbody>\n",
              "    <tr>\n",
              "      <th>canned beer</th>\n",
              "      <td>260</td>\n",
              "    </tr>\n",
              "    <tr>\n",
              "      <th>soda</th>\n",
              "      <td>156</td>\n",
              "    </tr>\n",
              "    <tr>\n",
              "      <th>whole milk</th>\n",
              "      <td>121</td>\n",
              "    </tr>\n",
              "    <tr>\n",
              "      <th>bottled beer</th>\n",
              "      <td>120</td>\n",
              "    </tr>\n",
              "    <tr>\n",
              "      <th>rolls/buns</th>\n",
              "      <td>109</td>\n",
              "    </tr>\n",
              "    <tr>\n",
              "      <th>bottled water</th>\n",
              "      <td>67</td>\n",
              "    </tr>\n",
              "    <tr>\n",
              "      <th>other vegetables</th>\n",
              "      <td>62</td>\n",
              "    </tr>\n",
              "    <tr>\n",
              "      <th>newspapers</th>\n",
              "      <td>54</td>\n",
              "    </tr>\n",
              "    <tr>\n",
              "      <th>shopping bags</th>\n",
              "      <td>48</td>\n",
              "    </tr>\n",
              "    <tr>\n",
              "      <th>yogurt</th>\n",
              "      <td>40</td>\n",
              "    </tr>\n",
              "    <tr>\n",
              "      <th>coffee</th>\n",
              "      <td>39</td>\n",
              "    </tr>\n",
              "    <tr>\n",
              "      <th>pastry</th>\n",
              "      <td>37</td>\n",
              "    </tr>\n",
              "    <tr>\n",
              "      <th>chocolate</th>\n",
              "      <td>35</td>\n",
              "    </tr>\n",
              "    <tr>\n",
              "      <th>ice cream</th>\n",
              "      <td>34</td>\n",
              "    </tr>\n",
              "    <tr>\n",
              "      <th>misc. beverages</th>\n",
              "      <td>31</td>\n",
              "    </tr>\n",
              "    <tr>\n",
              "      <th>salty snack</th>\n",
              "      <td>30</td>\n",
              "    </tr>\n",
              "    <tr>\n",
              "      <th>pip fruit</th>\n",
              "      <td>28</td>\n",
              "    </tr>\n",
              "    <tr>\n",
              "      <th>pork</th>\n",
              "      <td>27</td>\n",
              "    </tr>\n",
              "    <tr>\n",
              "      <th>photo/film</th>\n",
              "      <td>27</td>\n",
              "    </tr>\n",
              "    <tr>\n",
              "      <th>specialty chocolate</th>\n",
              "      <td>26</td>\n",
              "    </tr>\n",
              "    <tr>\n",
              "      <th>whipped/sour cream</th>\n",
              "      <td>26</td>\n",
              "    </tr>\n",
              "    <tr>\n",
              "      <th>beverages</th>\n",
              "      <td>26</td>\n",
              "    </tr>\n",
              "    <tr>\n",
              "      <th>beef</th>\n",
              "      <td>26</td>\n",
              "    </tr>\n",
              "    <tr>\n",
              "      <th>root vegetables</th>\n",
              "      <td>25</td>\n",
              "    </tr>\n",
              "    <tr>\n",
              "      <th>sausage</th>\n",
              "      <td>24</td>\n",
              "    </tr>\n",
              "    <tr>\n",
              "      <th>tropical fruit</th>\n",
              "      <td>23</td>\n",
              "    </tr>\n",
              "    <tr>\n",
              "      <th>fruit/vegetable juice</th>\n",
              "      <td>22</td>\n",
              "    </tr>\n",
              "    <tr>\n",
              "      <th>specialty bar</th>\n",
              "      <td>21</td>\n",
              "    </tr>\n",
              "    <tr>\n",
              "      <th>waffles</th>\n",
              "      <td>21</td>\n",
              "    </tr>\n",
              "    <tr>\n",
              "      <th>brown bread</th>\n",
              "      <td>20</td>\n",
              "    </tr>\n",
              "  </tbody>\n",
              "</table>\n",
              "</div>"
            ],
            "text/plain": [
              "                       Soporte\n",
              "canned beer                260\n",
              "soda                       156\n",
              "whole milk                 121\n",
              "bottled beer               120\n",
              "rolls/buns                 109\n",
              "bottled water               67\n",
              "other vegetables            62\n",
              "newspapers                  54\n",
              "shopping bags               48\n",
              "yogurt                      40\n",
              "coffee                      39\n",
              "pastry                      37\n",
              "chocolate                   35\n",
              "ice cream                   34\n",
              "misc. beverages             31\n",
              "salty snack                 30\n",
              "pip fruit                   28\n",
              "pork                        27\n",
              "photo/film                  27\n",
              "specialty chocolate         26\n",
              "whipped/sour cream          26\n",
              "beverages                   26\n",
              "beef                        26\n",
              "root vegetables             25\n",
              "sausage                     24\n",
              "tropical fruit              23\n",
              "fruit/vegetable juice       22\n",
              "specialty bar               21\n",
              "waffles                     21\n",
              "brown bread                 20"
            ]
          },
          "execution_count": 12,
          "metadata": {},
          "output_type": "execute_result"
        }
      ],
      "source": [
        "#Ordenamos de forma descendente el dataframe que contiene los soportes por producto\n",
        "df_sop = df_sop.sort_values('Soporte',ascending=False)\n",
        "df_sop.head(30)"
      ]
    },
    {
      "cell_type": "code",
      "execution_count": 13,
      "metadata": {
        "colab": {
          "base_uri": "https://localhost:8080/",
          "height": 430
        },
        "id": "8KgOwhHOvE4s",
        "outputId": "28f2bf05-e83a-4098-bfee-8e8daf8645b5"
      },
      "outputs": [
        {
          "data": {
            "image/png": "[encoded data removed]",
            "text/plain": [
              "<Figure size 640x480 with 1 Axes>"
            ]
          },
          "metadata": {},
          "output_type": "display_data"
        }
      ],
      "source": [
        "#graficamos los 30 productos más frecuentes\n",
        "df_sop.head(30).plot(kind = 'barh', color = 'violet');"
      ]
    },
    {
      "cell_type": "markdown",
      "metadata": {
        "id": "ywQbe3Ze3gQ3"
      },
      "source": [
        "# Subconjuntos frecuentes\n",
        "\n",
        "* <font color=cyan> Aplica el algoritmo ```apriori``` para extraer los conjuntos frecuentes. Utiliza un soporte mínimo de una milésima.\n",
        "* ¿Cuántos conjuntos frecuentes se obtienen?<font color=red>**13492 conjuntos**</font>\n",
        "* ¿Cuál es el número de artículos, en promedio, que compone a los conjuntos frecuentes?<font color=red>**3 artículos**</font>\n",
        "</font>"
      ]
    },
    {
      "cell_type": "code",
      "execution_count": 14,
      "metadata": {
        "colab": {
          "base_uri": "https://localhost:8080/",
          "height": 513
        },
        "id": "E9sYdUlqn8W0",
        "outputId": "2b56fefe-076f-4339-ada6-dc20214a2e09"
      },
      "outputs": [
        {
          "name": "stderr",
          "output_type": "stream",
          "text": [
            "C:\\Users\\Marco\\AppData\\Local\\Packages\\PythonSoftwareFoundation.Python.3.11_qbz5n2kfra8p0\\LocalCache\\local-packages\\Python311\\site-packages\\mlxtend\\frequent_patterns\\fpcommon.py:109: DeprecationWarning: DataFrames with non-bool types result in worse computationalperformance and their support might be discontinued in the future.Please use a DataFrame with bool type\n",
            "  warnings.warn(\n"
          ]
        },
        {
          "data": {
            "text/html": [
              "<div>\n",
              "<style scoped>\n",
              "    .dataframe tbody tr th:only-of-type {\n",
              "        vertical-align: middle;\n",
              "    }\n",
              "\n",
              "    .dataframe tbody tr th {\n",
              "        vertical-align: top;\n",
              "    }\n",
              "\n",
              "    .dataframe thead th {\n",
              "        text-align: right;\n",
              "    }\n",
              "</style>\n",
              "<table border=\"1\" class=\"dataframe\">\n",
              "  <thead>\n",
              "    <tr style=\"text-align: right;\">\n",
              "      <th></th>\n",
              "      <th>support</th>\n",
              "      <th>itemsets</th>\n",
              "    </tr>\n",
              "  </thead>\n",
              "  <tbody>\n",
              "    <tr>\n",
              "      <th>0</th>\n",
              "      <td>0.033452</td>\n",
              "      <td>(UHT-milk)</td>\n",
              "    </tr>\n",
              "    <tr>\n",
              "      <th>1</th>\n",
              "      <td>0.052466</td>\n",
              "      <td>(beef)</td>\n",
              "    </tr>\n",
              "    <tr>\n",
              "      <th>2</th>\n",
              "      <td>0.033249</td>\n",
              "      <td>(berries)</td>\n",
              "    </tr>\n",
              "    <tr>\n",
              "      <th>3</th>\n",
              "      <td>0.026029</td>\n",
              "      <td>(beverages)</td>\n",
              "    </tr>\n",
              "    <tr>\n",
              "      <th>4</th>\n",
              "      <td>0.080529</td>\n",
              "      <td>(bottled beer)</td>\n",
              "    </tr>\n",
              "    <tr>\n",
              "      <th>...</th>\n",
              "      <td>...</td>\n",
              "      <td>...</td>\n",
              "    </tr>\n",
              "    <tr>\n",
              "      <th>117</th>\n",
              "      <td>0.032232</td>\n",
              "      <td>(whole milk, whipped/sour cream)</td>\n",
              "    </tr>\n",
              "    <tr>\n",
              "      <th>118</th>\n",
              "      <td>0.020742</td>\n",
              "      <td>(yogurt, whipped/sour cream)</td>\n",
              "    </tr>\n",
              "    <tr>\n",
              "      <th>119</th>\n",
              "      <td>0.056024</td>\n",
              "      <td>(yogurt, whole milk)</td>\n",
              "    </tr>\n",
              "    <tr>\n",
              "      <th>120</th>\n",
              "      <td>0.023183</td>\n",
              "      <td>(other vegetables, root vegetables, whole milk)</td>\n",
              "    </tr>\n",
              "    <tr>\n",
              "      <th>121</th>\n",
              "      <td>0.022267</td>\n",
              "      <td>(other vegetables, yogurt, whole milk)</td>\n",
              "    </tr>\n",
              "  </tbody>\n",
              "</table>\n",
              "<p>122 rows × 2 columns</p>\n",
              "</div>"
            ],
            "text/plain": [
              "      support                                         itemsets\n",
              "0    0.033452                                       (UHT-milk)\n",
              "1    0.052466                                           (beef)\n",
              "2    0.033249                                        (berries)\n",
              "3    0.026029                                      (beverages)\n",
              "4    0.080529                                   (bottled beer)\n",
              "..        ...                                              ...\n",
              "117  0.032232                 (whole milk, whipped/sour cream)\n",
              "118  0.020742                     (yogurt, whipped/sour cream)\n",
              "119  0.056024                             (yogurt, whole milk)\n",
              "120  0.023183  (other vegetables, root vegetables, whole milk)\n",
              "121  0.022267           (other vegetables, yogurt, whole milk)\n",
              "\n",
              "[122 rows x 2 columns]"
            ]
          },
          "execution_count": 14,
          "metadata": {},
          "output_type": "execute_result"
        }
      ],
      "source": [
        "#Aplicamos el algoritmo apriori visto en clase\n",
        "frequent_itemsets = apriori(df, min_support=0.02, use_colnames=True)\n",
        "frequent_itemsets"
      ]
    },
    {
      "cell_type": "code",
      "execution_count": 15,
      "metadata": {
        "colab": {
          "base_uri": "https://localhost:8080/"
        },
        "id": "iFi8_v_t0CV8",
        "outputId": "50902973-b7e9-4789-977f-54cd0e3e2f88"
      },
      "outputs": [
        {
          "data": {
            "text/plain": [
              "1.5327868852459017"
            ]
          },
          "execution_count": 15,
          "metadata": {},
          "output_type": "execute_result"
        }
      ],
      "source": [
        "#Sacando el promedio de los productos por conjunto\n",
        "frequent_itemsets['itemsetsnumber'] = frequent_itemsets['itemsets'].apply(lambda x: len(x))\n",
        "itemsets_prom = frequent_itemsets['itemsetsnumber'].mean()\n",
        "itemsets_prom\n"
      ]
    },
    {
      "cell_type": "markdown",
      "metadata": {
        "id": "3O4SwzvaUzqU"
      },
      "source": [
        "# Reglas de asociación\n",
        "\n",
        "* <font color=\"cyan\"> Identifica todas las reglas de asociación obtenidas sobre los conjuntos frecuentes empleando un umbral de $2$ para la métrica **lift**.\n",
        "* Muestra las reglas que contengan, solamente, ```bottled beer``` en el consecuente. Ordénalas de acuerdo a la métrica *conviction* de forma descendente y muestra solo las 20 primeras.\n",
        "</font>"
      ]
    },
    {
      "cell_type": "code",
      "execution_count": 16,
      "metadata": {
        "colab": {
          "base_uri": "https://localhost:8080/",
          "height": 957
        },
        "id": "LHQ1TeCLoC4d",
        "outputId": "0dfd78bb-a096-4e1d-892a-f0da9be65bf4"
      },
      "outputs": [
        {
          "data": {
            "text/html": [
              "<div>\n",
              "<style scoped>\n",
              "    .dataframe tbody tr th:only-of-type {\n",
              "        vertical-align: middle;\n",
              "    }\n",
              "\n",
              "    .dataframe tbody tr th {\n",
              "        vertical-align: top;\n",
              "    }\n",
              "\n",
              "    .dataframe thead th {\n",
              "        text-align: right;\n",
              "    }\n",
              "</style>\n",
              "<table border=\"1\" class=\"dataframe\">\n",
              "  <thead>\n",
              "    <tr style=\"text-align: right;\">\n",
              "      <th></th>\n",
              "      <th>antecedents</th>\n",
              "      <th>consequents</th>\n",
              "      <th>antecedent support</th>\n",
              "      <th>consequent support</th>\n",
              "      <th>support</th>\n",
              "      <th>confidence</th>\n",
              "      <th>lift</th>\n",
              "      <th>leverage</th>\n",
              "      <th>conviction</th>\n",
              "      <th>zhangs_metric</th>\n",
              "    </tr>\n",
              "  </thead>\n",
              "  <tbody>\n",
              "    <tr>\n",
              "      <th>0</th>\n",
              "      <td>(other vegetables)</td>\n",
              "      <td>(root vegetables)</td>\n",
              "      <td>0.193493</td>\n",
              "      <td>0.108998</td>\n",
              "      <td>0.047382</td>\n",
              "      <td>0.244877</td>\n",
              "      <td>2.246605</td>\n",
              "      <td>0.026291</td>\n",
              "      <td>1.179941</td>\n",
              "      <td>0.688008</td>\n",
              "    </tr>\n",
              "    <tr>\n",
              "      <th>1</th>\n",
              "      <td>(root vegetables)</td>\n",
              "      <td>(other vegetables)</td>\n",
              "      <td>0.108998</td>\n",
              "      <td>0.193493</td>\n",
              "      <td>0.047382</td>\n",
              "      <td>0.434701</td>\n",
              "      <td>2.246605</td>\n",
              "      <td>0.026291</td>\n",
              "      <td>1.426693</td>\n",
              "      <td>0.622764</td>\n",
              "    </tr>\n",
              "    <tr>\n",
              "      <th>2</th>\n",
              "      <td>(other vegetables)</td>\n",
              "      <td>(whipped/sour cream)</td>\n",
              "      <td>0.193493</td>\n",
              "      <td>0.071683</td>\n",
              "      <td>0.028876</td>\n",
              "      <td>0.149238</td>\n",
              "      <td>2.081924</td>\n",
              "      <td>0.015006</td>\n",
              "      <td>1.091160</td>\n",
              "      <td>0.644352</td>\n",
              "    </tr>\n",
              "    <tr>\n",
              "      <th>3</th>\n",
              "      <td>(whipped/sour cream)</td>\n",
              "      <td>(other vegetables)</td>\n",
              "      <td>0.071683</td>\n",
              "      <td>0.193493</td>\n",
              "      <td>0.028876</td>\n",
              "      <td>0.402837</td>\n",
              "      <td>2.081924</td>\n",
              "      <td>0.015006</td>\n",
              "      <td>1.350565</td>\n",
              "      <td>0.559803</td>\n",
              "    </tr>\n",
              "    <tr>\n",
              "      <th>4</th>\n",
              "      <td>(tropical fruit)</td>\n",
              "      <td>(pip fruit)</td>\n",
              "      <td>0.104931</td>\n",
              "      <td>0.075648</td>\n",
              "      <td>0.020437</td>\n",
              "      <td>0.194767</td>\n",
              "      <td>2.574648</td>\n",
              "      <td>0.012499</td>\n",
              "      <td>1.147931</td>\n",
              "      <td>0.683297</td>\n",
              "    </tr>\n",
              "    <tr>\n",
              "      <th>5</th>\n",
              "      <td>(pip fruit)</td>\n",
              "      <td>(tropical fruit)</td>\n",
              "      <td>0.075648</td>\n",
              "      <td>0.104931</td>\n",
              "      <td>0.020437</td>\n",
              "      <td>0.270161</td>\n",
              "      <td>2.574648</td>\n",
              "      <td>0.012499</td>\n",
              "      <td>1.226392</td>\n",
              "      <td>0.661650</td>\n",
              "    </tr>\n",
              "    <tr>\n",
              "      <th>6</th>\n",
              "      <td>(tropical fruit)</td>\n",
              "      <td>(yogurt)</td>\n",
              "      <td>0.104931</td>\n",
              "      <td>0.139502</td>\n",
              "      <td>0.029283</td>\n",
              "      <td>0.279070</td>\n",
              "      <td>2.000475</td>\n",
              "      <td>0.014645</td>\n",
              "      <td>1.193594</td>\n",
              "      <td>0.558749</td>\n",
              "    </tr>\n",
              "    <tr>\n",
              "      <th>7</th>\n",
              "      <td>(yogurt)</td>\n",
              "      <td>(tropical fruit)</td>\n",
              "      <td>0.139502</td>\n",
              "      <td>0.104931</td>\n",
              "      <td>0.029283</td>\n",
              "      <td>0.209913</td>\n",
              "      <td>2.000475</td>\n",
              "      <td>0.014645</td>\n",
              "      <td>1.132873</td>\n",
              "      <td>0.581197</td>\n",
              "    </tr>\n",
              "    <tr>\n",
              "      <th>8</th>\n",
              "      <td>(yogurt)</td>\n",
              "      <td>(whipped/sour cream)</td>\n",
              "      <td>0.139502</td>\n",
              "      <td>0.071683</td>\n",
              "      <td>0.020742</td>\n",
              "      <td>0.148688</td>\n",
              "      <td>2.074251</td>\n",
              "      <td>0.010742</td>\n",
              "      <td>1.090455</td>\n",
              "      <td>0.601859</td>\n",
              "    </tr>\n",
              "    <tr>\n",
              "      <th>9</th>\n",
              "      <td>(whipped/sour cream)</td>\n",
              "      <td>(yogurt)</td>\n",
              "      <td>0.071683</td>\n",
              "      <td>0.139502</td>\n",
              "      <td>0.020742</td>\n",
              "      <td>0.289362</td>\n",
              "      <td>2.074251</td>\n",
              "      <td>0.010742</td>\n",
              "      <td>1.210881</td>\n",
              "      <td>0.557889</td>\n",
              "    </tr>\n",
              "    <tr>\n",
              "      <th>10</th>\n",
              "      <td>(other vegetables, whole milk)</td>\n",
              "      <td>(root vegetables)</td>\n",
              "      <td>0.074835</td>\n",
              "      <td>0.108998</td>\n",
              "      <td>0.023183</td>\n",
              "      <td>0.309783</td>\n",
              "      <td>2.842082</td>\n",
              "      <td>0.015026</td>\n",
              "      <td>1.290900</td>\n",
              "      <td>0.700572</td>\n",
              "    </tr>\n",
              "    <tr>\n",
              "      <th>11</th>\n",
              "      <td>(root vegetables, whole milk)</td>\n",
              "      <td>(other vegetables)</td>\n",
              "      <td>0.048907</td>\n",
              "      <td>0.193493</td>\n",
              "      <td>0.023183</td>\n",
              "      <td>0.474012</td>\n",
              "      <td>2.449770</td>\n",
              "      <td>0.013719</td>\n",
              "      <td>1.533320</td>\n",
              "      <td>0.622230</td>\n",
              "    </tr>\n",
              "    <tr>\n",
              "      <th>12</th>\n",
              "      <td>(other vegetables)</td>\n",
              "      <td>(root vegetables, whole milk)</td>\n",
              "      <td>0.193493</td>\n",
              "      <td>0.048907</td>\n",
              "      <td>0.023183</td>\n",
              "      <td>0.119811</td>\n",
              "      <td>2.449770</td>\n",
              "      <td>0.013719</td>\n",
              "      <td>1.080555</td>\n",
              "      <td>0.733779</td>\n",
              "    </tr>\n",
              "    <tr>\n",
              "      <th>13</th>\n",
              "      <td>(root vegetables)</td>\n",
              "      <td>(other vegetables, whole milk)</td>\n",
              "      <td>0.108998</td>\n",
              "      <td>0.074835</td>\n",
              "      <td>0.023183</td>\n",
              "      <td>0.212687</td>\n",
              "      <td>2.842082</td>\n",
              "      <td>0.015026</td>\n",
              "      <td>1.175091</td>\n",
              "      <td>0.727435</td>\n",
              "    </tr>\n",
              "    <tr>\n",
              "      <th>14</th>\n",
              "      <td>(other vegetables, yogurt)</td>\n",
              "      <td>(whole milk)</td>\n",
              "      <td>0.043416</td>\n",
              "      <td>0.255516</td>\n",
              "      <td>0.022267</td>\n",
              "      <td>0.512881</td>\n",
              "      <td>2.007235</td>\n",
              "      <td>0.011174</td>\n",
              "      <td>1.528340</td>\n",
              "      <td>0.524577</td>\n",
              "    </tr>\n",
              "    <tr>\n",
              "      <th>15</th>\n",
              "      <td>(other vegetables, whole milk)</td>\n",
              "      <td>(yogurt)</td>\n",
              "      <td>0.074835</td>\n",
              "      <td>0.139502</td>\n",
              "      <td>0.022267</td>\n",
              "      <td>0.297554</td>\n",
              "      <td>2.132979</td>\n",
              "      <td>0.011828</td>\n",
              "      <td>1.225003</td>\n",
              "      <td>0.574138</td>\n",
              "    </tr>\n",
              "    <tr>\n",
              "      <th>16</th>\n",
              "      <td>(yogurt, whole milk)</td>\n",
              "      <td>(other vegetables)</td>\n",
              "      <td>0.056024</td>\n",
              "      <td>0.193493</td>\n",
              "      <td>0.022267</td>\n",
              "      <td>0.397459</td>\n",
              "      <td>2.054131</td>\n",
              "      <td>0.011427</td>\n",
              "      <td>1.338511</td>\n",
              "      <td>0.543633</td>\n",
              "    </tr>\n",
              "    <tr>\n",
              "      <th>17</th>\n",
              "      <td>(other vegetables)</td>\n",
              "      <td>(yogurt, whole milk)</td>\n",
              "      <td>0.193493</td>\n",
              "      <td>0.056024</td>\n",
              "      <td>0.022267</td>\n",
              "      <td>0.115081</td>\n",
              "      <td>2.054131</td>\n",
              "      <td>0.011427</td>\n",
              "      <td>1.066737</td>\n",
              "      <td>0.636294</td>\n",
              "    </tr>\n",
              "    <tr>\n",
              "      <th>18</th>\n",
              "      <td>(yogurt)</td>\n",
              "      <td>(other vegetables, whole milk)</td>\n",
              "      <td>0.139502</td>\n",
              "      <td>0.074835</td>\n",
              "      <td>0.022267</td>\n",
              "      <td>0.159621</td>\n",
              "      <td>2.132979</td>\n",
              "      <td>0.011828</td>\n",
              "      <td>1.100890</td>\n",
              "      <td>0.617284</td>\n",
              "    </tr>\n",
              "    <tr>\n",
              "      <th>19</th>\n",
              "      <td>(whole milk)</td>\n",
              "      <td>(other vegetables, yogurt)</td>\n",
              "      <td>0.255516</td>\n",
              "      <td>0.043416</td>\n",
              "      <td>0.022267</td>\n",
              "      <td>0.087147</td>\n",
              "      <td>2.007235</td>\n",
              "      <td>0.011174</td>\n",
              "      <td>1.047905</td>\n",
              "      <td>0.674027</td>\n",
              "    </tr>\n",
              "  </tbody>\n",
              "</table>\n",
              "</div>"
            ],
            "text/plain": [
              "                       antecedents                     consequents  \\\n",
              "0               (other vegetables)               (root vegetables)   \n",
              "1                (root vegetables)              (other vegetables)   \n",
              "2               (other vegetables)            (whipped/sour cream)   \n",
              "3             (whipped/sour cream)              (other vegetables)   \n",
              "4                 (tropical fruit)                     (pip fruit)   \n",
              "5                      (pip fruit)                (tropical fruit)   \n",
              "6                 (tropical fruit)                        (yogurt)   \n",
              "7                         (yogurt)                (tropical fruit)   \n",
              "8                         (yogurt)            (whipped/sour cream)   \n",
              "9             (whipped/sour cream)                        (yogurt)   \n",
              "10  (other vegetables, whole milk)               (root vegetables)   \n",
              "11   (root vegetables, whole milk)              (other vegetables)   \n",
              "12              (other vegetables)   (root vegetables, whole milk)   \n",
              "13               (root vegetables)  (other vegetables, whole milk)   \n",
              "14      (other vegetables, yogurt)                    (whole milk)   \n",
              "15  (other vegetables, whole milk)                        (yogurt)   \n",
              "16            (yogurt, whole milk)              (other vegetables)   \n",
              "17              (other vegetables)            (yogurt, whole milk)   \n",
              "18                        (yogurt)  (other vegetables, whole milk)   \n",
              "19                    (whole milk)      (other vegetables, yogurt)   \n",
              "\n",
              "    antecedent support  consequent support   support  confidence      lift  \\\n",
              "0             0.193493            0.108998  0.047382    0.244877  2.246605   \n",
              "1             0.108998            0.193493  0.047382    0.434701  2.246605   \n",
              "2             0.193493            0.071683  0.028876    0.149238  2.081924   \n",
              "3             0.071683            0.193493  0.028876    0.402837  2.081924   \n",
              "4             0.104931            0.075648  0.020437    0.194767  2.574648   \n",
              "5             0.075648            0.104931  0.020437    0.270161  2.574648   \n",
              "6             0.104931            0.139502  0.029283    0.279070  2.000475   \n",
              "7             0.139502            0.104931  0.029283    0.209913  2.000475   \n",
              "8             0.139502            0.071683  0.020742    0.148688  2.074251   \n",
              "9             0.071683            0.139502  0.020742    0.289362  2.074251   \n",
              "10            0.074835            0.108998  0.023183    0.309783  2.842082   \n",
              "11            0.048907            0.193493  0.023183    0.474012  2.449770   \n",
              "12            0.193493            0.048907  0.023183    0.119811  2.449770   \n",
              "13            0.108998            0.074835  0.023183    0.212687  2.842082   \n",
              "14            0.043416            0.255516  0.022267    0.512881  2.007235   \n",
              "15            0.074835            0.139502  0.022267    0.297554  2.132979   \n",
              "16            0.056024            0.193493  0.022267    0.397459  2.054131   \n",
              "17            0.193493            0.056024  0.022267    0.115081  2.054131   \n",
              "18            0.139502            0.074835  0.022267    0.159621  2.132979   \n",
              "19            0.255516            0.043416  0.022267    0.087147  2.007235   \n",
              "\n",
              "    leverage  conviction  zhangs_metric  \n",
              "0   0.026291    1.179941       0.688008  \n",
              "1   0.026291    1.426693       0.622764  \n",
              "2   0.015006    1.091160       0.644352  \n",
              "3   0.015006    1.350565       0.559803  \n",
              "4   0.012499    1.147931       0.683297  \n",
              "5   0.012499    1.226392       0.661650  \n",
              "6   0.014645    1.193594       0.558749  \n",
              "7   0.014645    1.132873       0.581197  \n",
              "8   0.010742    1.090455       0.601859  \n",
              "9   0.010742    1.210881       0.557889  \n",
              "10  0.015026    1.290900       0.700572  \n",
              "11  0.013719    1.533320       0.622230  \n",
              "12  0.013719    1.080555       0.733779  \n",
              "13  0.015026    1.175091       0.727435  \n",
              "14  0.011174    1.528340       0.524577  \n",
              "15  0.011828    1.225003       0.574138  \n",
              "16  0.011427    1.338511       0.543633  \n",
              "17  0.011427    1.066737       0.636294  \n",
              "18  0.011828    1.100890       0.617284  \n",
              "19  0.011174    1.047905       0.674027  "
            ]
          },
          "execution_count": 16,
          "metadata": {},
          "output_type": "execute_result"
        }
      ],
      "source": [
        "#Identificación de las reglas de asociación\n",
        "ar=association_rules(frequent_itemsets, metric=\"lift\", min_threshold=2)\n",
        "reg_aso = pd.DataFrame(ar)\n",
        "reg_aso"
      ]
    },
    {
      "cell_type": "code",
      "execution_count": 17,
      "metadata": {
        "colab": {
          "base_uri": "https://localhost:8080/",
          "height": 616
        },
        "id": "22HUguf-6-Lz",
        "outputId": "94513a57-3c38-4b87-c798-581c8651accb"
      },
      "outputs": [
        {
          "data": {
            "text/html": [
              "<div>\n",
              "<style scoped>\n",
              "    .dataframe tbody tr th:only-of-type {\n",
              "        vertical-align: middle;\n",
              "    }\n",
              "\n",
              "    .dataframe tbody tr th {\n",
              "        vertical-align: top;\n",
              "    }\n",
              "\n",
              "    .dataframe thead th {\n",
              "        text-align: right;\n",
              "    }\n",
              "</style>\n",
              "<table border=\"1\" class=\"dataframe\">\n",
              "  <thead>\n",
              "    <tr style=\"text-align: right;\">\n",
              "      <th></th>\n",
              "      <th>antecedents</th>\n",
              "      <th>consequents</th>\n",
              "      <th>antecedent support</th>\n",
              "      <th>consequent support</th>\n",
              "      <th>support</th>\n",
              "      <th>confidence</th>\n",
              "      <th>lift</th>\n",
              "      <th>leverage</th>\n",
              "      <th>conviction</th>\n",
              "      <th>zhangs_metric</th>\n",
              "    </tr>\n",
              "  </thead>\n",
              "  <tbody>\n",
              "    <tr>\n",
              "      <th>6</th>\n",
              "      <td>(tropical fruit)</td>\n",
              "      <td>(yogurt)</td>\n",
              "      <td>0.104931</td>\n",
              "      <td>0.139502</td>\n",
              "      <td>0.029283</td>\n",
              "      <td>0.279070</td>\n",
              "      <td>2.000475</td>\n",
              "      <td>0.014645</td>\n",
              "      <td>1.193594</td>\n",
              "      <td>0.558749</td>\n",
              "    </tr>\n",
              "    <tr>\n",
              "      <th>9</th>\n",
              "      <td>(whipped/sour cream)</td>\n",
              "      <td>(yogurt)</td>\n",
              "      <td>0.071683</td>\n",
              "      <td>0.139502</td>\n",
              "      <td>0.020742</td>\n",
              "      <td>0.289362</td>\n",
              "      <td>2.074251</td>\n",
              "      <td>0.010742</td>\n",
              "      <td>1.210881</td>\n",
              "      <td>0.557889</td>\n",
              "    </tr>\n",
              "    <tr>\n",
              "      <th>15</th>\n",
              "      <td>(other vegetables, whole milk)</td>\n",
              "      <td>(yogurt)</td>\n",
              "      <td>0.074835</td>\n",
              "      <td>0.139502</td>\n",
              "      <td>0.022267</td>\n",
              "      <td>0.297554</td>\n",
              "      <td>2.132979</td>\n",
              "      <td>0.011828</td>\n",
              "      <td>1.225003</td>\n",
              "      <td>0.574138</td>\n",
              "    </tr>\n",
              "  </tbody>\n",
              "</table>\n",
              "</div>"
            ],
            "text/plain": [
              "                       antecedents consequents  antecedent support  \\\n",
              "6                 (tropical fruit)    (yogurt)            0.104931   \n",
              "9             (whipped/sour cream)    (yogurt)            0.071683   \n",
              "15  (other vegetables, whole milk)    (yogurt)            0.074835   \n",
              "\n",
              "    consequent support   support  confidence      lift  leverage  conviction  \\\n",
              "6             0.139502  0.029283    0.279070  2.000475  0.014645    1.193594   \n",
              "9             0.139502  0.020742    0.289362  2.074251  0.010742    1.210881   \n",
              "15            0.139502  0.022267    0.297554  2.132979  0.011828    1.225003   \n",
              "\n",
              "    zhangs_metric  \n",
              "6        0.558749  \n",
              "9        0.557889  \n",
              "15       0.574138  "
            ]
          },
          "execution_count": 17,
          "metadata": {},
          "output_type": "execute_result"
        }
      ],
      "source": [
        "#Mostrando las primeras 20 reglas de asociación que contienen bottled beer en el consecuente\n",
        "reg_botbeer= reg_aso[reg_aso['consequents'] == {'yogurt'}]\n",
        "reg_botbeer.sort_values('conviction',ascending=False)\n",
        "reg_botbeer.head(20)"
      ]
    },
    {
      "cell_type": "markdown",
      "metadata": {},
      "source": [
        "## Reglas de asociación"
      ]
    },
    {
      "cell_type": "markdown",
      "metadata": {},
      "source": [
        "**(root vegetables) → (other vegetables)**\n",
        "\n",
        "**(other vegetables, whole milk) → (root vegetables)**\n",
        "\n",
        "**(yogurt, other vegetables) → (whole milk)**\n",
        "\n",
        "**(pip fruit) → (tropical fruit)**\n",
        "\n",
        "**(whipped/sour cream) → (other vegetables)**"
      ]
    },
    {
      "cell_type": "markdown",
      "metadata": {},
      "source": [
        "1. **(root vegetables) → (other vegetables)**: Esta regla tiene un valor de confianza relativamente alto y un lift mayor que 2, lo que significa que es mucho más probable que los clientes compren otras verduras si ya están comprando verduras de raíz. Esta información es útil para las tiendas porque sugiere que estos dos tipos de verduras podrían colocarse juntos o incluirse en promociones compartidas.\n",
        "\n",
        "2. **(other vegetables, whole milk) → (root vegetables)**: Similar a la primera regla, pero en la dirección opuesta, esta regla sugiere que la compra conjunta de otras verduras y leche entera está asociada con la compra de verduras de raíz. Esta información podría ser útil para comprender las preferencias de compra de los clientes y para diseñar promociones o descuentos que incentiven la compra de estos productos juntos.\n",
        "\n",
        "3. **(yogurt, other vegetables) → (whole milk)**: Esta regla indica que los clientes que compran yogurt y otras verduras tienen una alta probabilidad de comprar también leche entera. Esto puede reflejar un patrón de compra donde los consumidores interesados en productos lácteos y verduras tienden a comprar estos productos en la misma visita a la tienda. Esta regla puede ser utilizada para promociones cruzadas o para optimizar la logística y el inventario de estos productos.\n",
        "\n",
        "4. **(pip fruit) → (tropical fruit)**: Aquellos que compran frutas de pepita (como manzanas y peras) pueden tener una preferencia general por las frutas o estar buscando variedad para su consumo de frutas. Adquirir frutas tropicales junto con frutas de pepita podría ser una manera de disfrutar de una gama más amplia de sabores y nutrientes.\n",
        "\n",
        "5. **(whipped/sour cream) → (other vegetables)**: Con un lift también mayor que 2, esta regla indica que la compra de crema batida o agria a menudo va acompañada de la compra de otras verduras. Esto podría informar a la tienda para que considere ofertas conjuntas o sugiera recetas que utilicen ambos ingredientes."
      ]
    },
    {
      "cell_type": "markdown",
      "metadata": {},
      "source": [
        "## ¿En qué tipo de tienda o industria, consideras que sería interesante aplicar un análisis de reglas de asociación?"
      ]
    },
    {
      "cell_type": "markdown",
      "metadata": {},
      "source": [
        "Un análisis de reglas de asociación sería muy útil en una tienda de supermercado. En un supermercado, la gente compra muchas cosas diferentes, y sería interesante ver qué productos suelen comprar juntos. Por ejemplo, si muchas personas compran leche cuando compran cereal, la tienda podría poner esos productos cerca uno del otro o hacer ofertas especiales para que la gente compre ambos. Así, la tienda puede vender más y los clientes pueden encontrar más fácilmente lo que necesitan."
      ]
    },
    {
      "cell_type": "markdown",
      "metadata": {},
      "source": [
        "Otro lugar interesante para aplicar las reglas de asociación es en una tienda en línea, como una página web donde se venden todo tipo de cosas. Al igual que en el supermercado, en una tienda en línea se pueden analizar las compras de la gente para ver qué productos suelen comprar juntos. Por ejemplo, si alguien compra una funda para su teléfono móvil, quizás también esté interesado en comprar un protector de pantalla. Con esta información, la tienda en línea puede sugerir productos que podrían interesar al cliente, haciendo más fácil que encuentre lo que necesita o descubra cosas nuevas que le gustaría comprar. Esto puede hacer que la gente compre más cosas y se sienta más satisfecha con su experiencia de compra en línea."
      ]
    },
    {
      "cell_type": "markdown",
      "metadata": {},
      "source": [
        "## Conclusiones"
      ]
    },
    {
      "cell_type": "markdown",
      "metadata": {},
      "source": [
        "En este notebook se realizo un análisis de reglas de asociación utilizando un conjunto de datos de un supermercado. Descubri cómo ciertos productos tienden a comprarse juntos, lo que proporciona información valiosa sobre el comportamiento de compra de los clientes. Por ejemplo, identifique patrones como que la gente que compra verduras de raíz y leche entera suele comprar también otras verduras, o que los clientes que adquieren yogurt y otras verduras tienden a comprar leche entera.\n",
        "\n",
        "Estos hallazgos son importantes porque pueden ayudar a la tienda a tomar decisiones inteligentes sobre cómo promocionar productos, dónde colocarlos en la tienda, y cómo diseñar ofertas o descuentos que atraigan a los clientes a comprar más. En esencia, las reglas de asociación te dan pistas sobre los hábitos de los compradores, permitiéndote prever qué productos podrían interesarles juntos.\n",
        "\n",
        "En general, el análisis de reglas de asociación es una buena herramienta no solo para supermercados sino también para una variedad de negocios, como tiendas en línea, que buscan entender mejor a sus clientes y mejorar sus ventas y satisfacción del cliente. Al aplicar este análisis, las empresas pueden crear estrategias más efectivas para aumentar las ventas cruzadas y mejorar la experiencia de compra para sus clientes."
      ]
    }
  ],
  "metadata": {
    "colab": {
      "provenance": []
    },
    "kernelspec": {
      "display_name": "Python 3",
      "name": "python3"
    },
    "language_info": {
      "codemirror_mode": {
        "name": "ipython",
        "version": 3
      },
      "file_extension": ".py",
      "mimetype": "text/x-python",
      "name": "python",
      "nbconvert_exporter": "python",
      "pygments_lexer": "ipython3",
      "version": "3.11.8"
    }
  },
  "nbformat": 4,
  "nbformat_minor": 0
}
